{
 "cells": [
  {
   "cell_type": "markdown",
   "id": "02e83ccf",
   "metadata": {},
   "source": [
    "# Improving Sentiment Analysis Accuracy with Python and Machine Learning"
   ]
  },
  {
   "cell_type": "markdown",
   "id": "d89edf4b",
   "metadata": {},
   "source": [
    "summary of the sentiment analysis model:\n",
    "\n",
    "1. Data Loading: The model begins by loading the movie_reviews dataset from NLTK, which consists of movie reviews labeled as either 'pos' (positive) or 'neg' (negative).\n",
    "\n",
    "2. Data Preparation: The reviews are shuffled and then prepared for the model. Each review is transformed into a single string (as opposed to a list of words), and the labels are extracted.\n",
    "\n",
    "3. Vectorization: The texts of the reviews are vectorized using the CountVectorizer from Scikit-learn. This transforms the text into a matrix of token counts, which can be used as input for the machine learning model.\n",
    "\n",
    "4. Data Splitting: The dataset is split into a training set and a testing set. 80% of the data is used for training the model, and 20% is used for testing its performance.\n",
    "\n",
    "5. Model Training: A Multinomial Naive Bayes classifier is trained on the training data. This is a suitable model for classification with discrete features (like word counts).\n",
    "\n",
    "6. Prediction: The trained model is used to predict the labels (i.e., sentiments) for the test set.\n",
    "\n",
    "7. Evaluation: Finally, the performance of the model is evaluated by comparing the predicted labels to the true labels. The classification report includes metrics like precision, recall, and F1-score for both the 'pos' and 'neg' classes, as well as the overall accuracy of the model."
   ]
  },
  {
   "cell_type": "code",
   "execution_count": 1,
   "id": "d65f7770",
   "metadata": {},
   "outputs": [
    {
     "name": "stdout",
     "output_type": "stream",
     "text": [
      "              precision    recall  f1-score   support\n",
      "\n",
      "         neg       0.80      0.82      0.81       195\n",
      "         pos       0.82      0.81      0.82       205\n",
      "\n",
      "    accuracy                           0.81       400\n",
      "   macro avg       0.81      0.81      0.81       400\n",
      "weighted avg       0.81      0.81      0.81       400\n",
      "\n"
     ]
    }
   ],
   "source": [
    "import nltk\n",
    "from nltk.corpus import movie_reviews\n",
    "from sklearn.feature_extraction.text import CountVectorizer\n",
    "from sklearn.naive_bayes import MultinomialNB\n",
    "from sklearn.model_selection import train_test_split\n",
    "from sklearn.metrics import classification_report\n",
    "from nltk.corpus import movie_reviews\n",
    "\n",
    "# Load the dataset\n",
    "documents = [(list(movie_reviews.words(fileid)), category)\n",
    "             for category in movie_reviews.categories()\n",
    "             for fileid in movie_reviews.fileids(category)]\n",
    "\n",
    "# Shuffle the documents\n",
    "import random\n",
    "random.shuffle(documents)\n",
    "\n",
    "# Prepare the dataset\n",
    "texts = [\" \".join(doc) for doc, _ in documents]\n",
    "labels = [label for _, label in documents]\n",
    "\n",
    "# Vectorize the texts\n",
    "vectorizer = CountVectorizer()\n",
    "features = vectorizer.fit_transform(texts)\n",
    "\n",
    "# Split the dataset into training and testing sets\n",
    "features_train, features_test, labels_train, labels_test = train_test_split(features, labels, test_size=0.2, random_state=42)\n",
    "\n",
    "# Train a Naive Bayes classifier\n",
    "classifier = MultinomialNB()\n",
    "classifier.fit(features_train, labels_train)\n",
    "\n",
    "# Predict the labels for the test set\n",
    "labels_pred = classifier.predict(features_test)\n",
    "\n",
    "# Print the classification report\n",
    "print(classification_report(labels_test, labels_pred))"
   ]
  },
  {
   "cell_type": "markdown",
   "id": "31ffa702",
   "metadata": {},
   "source": [
    "## The output you're seeing is a classification report, which is a summary of the performance of a classification model on the test data. Here's what each term means:\n",
    "\n",
    "- Precision: This is the ratio of true positives (the number of items correctly labeled as belonging to the positive class) to the sum of true positives and false positives (the number of items incorrectly labeled as belonging to the positive class). In your case, the precision for both 'neg' and 'pos' classes is 0.80, which means that 80% of the reviews that the model labeled as positive or negative were actually positive or negative.\n",
    "\n",
    "- Recall: This is the ratio of true positives to the sum of true positives and false negatives (the number of items incorrectly labeled as belonging to the negative class). In your case, the recall for the 'neg' class is 0.80 and for the 'pos' class is 0.81, which means that the model correctly identified 80% of the negative reviews and 81% of the positive reviews.\n",
    "\n",
    "- F1-score: This is the harmonic mean of precision and recall. An F1 score reaches its best value at 1 (perfect precision and recall) and worst at 0. In your case, the F1 score for both classes is 0.80, which is quite good.\n",
    "\n",
    "- Support: This is the number of occurrences of each class in the true data. In your case, there were 199 negative reviews and 201 positive reviews in the test data.\n",
    "\n",
    "- Macro avg: This is the average of the metric for each class without considering the proportion of each class in the true data.\n",
    "\n",
    "- Weighted avg: This is the average of the metric for each class considering the proportion of each class in the true data.\n",
    "\n",
    "- Accuracy: This is the ratio of the total number of correct predictions to the total number of predictions. In your case, the accuracy of the model is 0.80, which means that the model correctly predicted the sentiment of 80% of the reviews."
   ]
  }
 ],
 "metadata": {
  "kernelspec": {
   "display_name": "Python 3 (ipykernel)",
   "language": "python",
   "name": "python3"
  },
  "language_info": {
   "codemirror_mode": {
    "name": "ipython",
    "version": 3
   },
   "file_extension": ".py",
   "mimetype": "text/x-python",
   "name": "python",
   "nbconvert_exporter": "python",
   "pygments_lexer": "ipython3",
   "version": "3.9.7"
  }
 },
 "nbformat": 4,
 "nbformat_minor": 5
}
